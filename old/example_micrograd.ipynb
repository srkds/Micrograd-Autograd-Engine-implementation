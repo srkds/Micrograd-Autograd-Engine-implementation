{
 "cells": [
  {
   "cell_type": "code",
   "execution_count": 1,
   "id": "515eb150-3f75-41d2-b543-cdfd2ba2b276",
   "metadata": {},
   "outputs": [],
   "source": [
    "from micrograd import Value"
   ]
  },
  {
   "cell_type": "code",
   "execution_count": 2,
   "id": "21afbabc-6524-4415-9614-c402402c12d5",
   "metadata": {},
   "outputs": [
    {
     "name": "stdout",
     "output_type": "stream",
     "text": [
      "Value(data=0.7070699857622339)\n"
     ]
    }
   ],
   "source": [
    "\n",
    "## Initializing inputs, weights and bias\n",
    "x1 = Value(2.0, label='x1')\n",
    "x2 = Value(0.0, label=\"x2\")\n",
    "\n",
    "\n",
    "w1 = Value(-3.0, label=\"w1\")\n",
    "w2 = Value(1.0, label=\"w2\")\n",
    "\n",
    "b = Value(6.8813, label=\"b\")\n",
    "\n",
    "x1w1 = x1*w1; x1w1.label='x1w1'\n",
    "x2w2 = x2*w2; x2w2.label='x2w2'\n",
    "\n",
    "x1w1x2w2 = x1w1 + x2w2; x1w1x2w2.label = 'x1w1x2w2'\n",
    "\n",
    "d =  x1w1x2w2 + b; d.label = 'd'\n",
    "\n",
    "o = d.tanh()\n",
    "\n",
    "print(o)"
   ]
  },
  {
   "cell_type": "code",
   "execution_count": 3,
   "id": "24ba592d-aeec-4192-af25-70a180373a85",
   "metadata": {},
   "outputs": [],
   "source": [
    "o.backward()"
   ]
  },
  {
   "cell_type": "code",
   "execution_count": 4,
   "id": "14b92dd2-e607-483d-89b6-d25397cf62fc",
   "metadata": {},
   "outputs": [
    {
     "data": {
      "text/plain": [
       "1.0"
      ]
     },
     "execution_count": 4,
     "metadata": {},
     "output_type": "execute_result"
    }
   ],
   "source": [
    "o.grad"
   ]
  },
  {
   "cell_type": "code",
   "execution_count": 13,
   "id": "605a8e5d-fbaa-4119-bc43-1d5f087370d5",
   "metadata": {},
   "outputs": [
    {
     "data": {
      "text/plain": [
       "0.5000520352341944"
      ]
     },
     "execution_count": 13,
     "metadata": {},
     "output_type": "execute_result"
    }
   ],
   "source": [
    "d.grad"
   ]
  },
  {
   "cell_type": "code",
   "execution_count": 15,
   "id": "a4f1a27d-901a-450d-8f38-47aa68e70fd5",
   "metadata": {},
   "outputs": [
    {
     "data": {
      "text/plain": [
       "0.5000520352341944"
      ]
     },
     "execution_count": 15,
     "metadata": {},
     "output_type": "execute_result"
    }
   ],
   "source": [
    "b.grad"
   ]
  },
  {
   "cell_type": "code",
   "execution_count": 5,
   "id": "8ba06ce5-b116-4793-a971-77f70e6e2b3e",
   "metadata": {},
   "outputs": [
    {
     "data": {
      "text/plain": [
       "1.0"
      ]
     },
     "execution_count": 5,
     "metadata": {},
     "output_type": "execute_result"
    }
   ],
   "source": [
    "x1w1x2w2.grad"
   ]
  },
  {
   "cell_type": "code",
   "execution_count": 16,
   "id": "7e837ea7-c2b2-438a-85b3-372c3e921577",
   "metadata": {},
   "outputs": [
    {
     "data": {
      "text/plain": [
       "1.0001040704683888"
      ]
     },
     "execution_count": 16,
     "metadata": {},
     "output_type": "execute_result"
    }
   ],
   "source": [
    "w1.grad"
   ]
  },
  {
   "cell_type": "code",
   "execution_count": 17,
   "id": "5d0a2c51-00f8-4387-b178-3cba6a564b7a",
   "metadata": {},
   "outputs": [
    {
     "data": {
      "text/plain": [
       "0.0"
      ]
     },
     "execution_count": 17,
     "metadata": {},
     "output_type": "execute_result"
    }
   ],
   "source": [
    "w2.grad"
   ]
  },
  {
   "cell_type": "code",
   "execution_count": 18,
   "id": "e3115018-070f-4414-8049-4e4fb6e51aa6",
   "metadata": {},
   "outputs": [
    {
     "data": {
      "text/plain": [
       "-1.5001561057025832"
      ]
     },
     "execution_count": 18,
     "metadata": {},
     "output_type": "execute_result"
    }
   ],
   "source": [
    "x1.grad"
   ]
  },
  {
   "cell_type": "code",
   "execution_count": 19,
   "id": "5da73b7c-3eef-4310-873e-aefca1a29d7b",
   "metadata": {},
   "outputs": [
    {
     "data": {
      "text/plain": [
       "0.5000520352341944"
      ]
     },
     "execution_count": 19,
     "metadata": {},
     "output_type": "execute_result"
    }
   ],
   "source": [
    "x2.grad"
   ]
  },
  {
   "cell_type": "markdown",
   "id": "86c0afca-5d0c-489b-80a4-6253023ccd4a",
   "metadata": {},
   "source": [
    "# Individual Operations Using Value Object\n",
    "\n",
    "- `add`\n",
    "- `minus`\n",
    "- `multiplication`\n",
    "- `division`"
   ]
  },
  {
   "cell_type": "code",
   "execution_count": 2,
   "id": "80859e20-2508-4ee0-8711-c1fc5d50f9f5",
   "metadata": {},
   "outputs": [
    {
     "name": "stdout",
     "output_type": "stream",
     "text": [
      "a = Value(data=10)\n",
      "b = Value(data=5)\n"
     ]
    }
   ],
   "source": [
    "a = Value(10)\n",
    "b = Value(5)\n",
    "\n",
    "print(f'a = {a}')\n",
    "print(f'b = {b}')"
   ]
  },
  {
   "cell_type": "code",
   "execution_count": 8,
   "id": "ba1a66d4-2481-42af-ad77-e592b5e0fbbc",
   "metadata": {},
   "outputs": [
    {
     "name": "stdout",
     "output_type": "stream",
     "text": [
      "a + b = Value(data=15)\n",
      "access data by using \"add.data\" = 15\n"
     ]
    }
   ],
   "source": [
    "add = a + b\n",
    "print(f'a + b = {add}')\n",
    "print(f'access data by using \"add.data\" = {add.data}')"
   ]
  },
  {
   "cell_type": "code",
   "execution_count": 4,
   "id": "124ca023-7427-41d5-85f8-c72a7c623bec",
   "metadata": {},
   "outputs": [
    {
     "data": {
      "text/plain": [
       "Value(data=-10)"
      ]
     },
     "execution_count": 4,
     "metadata": {},
     "output_type": "execute_result"
    }
   ],
   "source": [
    "-a # negation operation"
   ]
  },
  {
   "cell_type": "code",
   "execution_count": 5,
   "id": "ed26b2a5-f5f5-4cf9-ac3d-da9ea244d572",
   "metadata": {},
   "outputs": [
    {
     "name": "stdout",
     "output_type": "stream",
     "text": [
      "a - b = Value(data=5)\n"
     ]
    }
   ],
   "source": [
    "minus = a - b\n",
    "print(f'a - b = {minus}')"
   ]
  },
  {
   "cell_type": "code",
   "execution_count": 11,
   "id": "0cf5765e-d680-4710-bafa-7dd166d58707",
   "metadata": {},
   "outputs": [
    {
     "name": "stdout",
     "output_type": "stream",
     "text": [
      "10^2 = Value(data=22026.465794806718)\n"
     ]
    }
   ],
   "source": [
    "exp = a.exp()\n",
    "print(f'10^2 = {exp}')"
   ]
  },
  {
   "cell_type": "code",
   "execution_count": 12,
   "id": "2622d36b-4c19-467f-99a9-1ab92c83d6ff",
   "metadata": {},
   "outputs": [
    {
     "data": {
      "text/plain": [
       "20"
      ]
     },
     "execution_count": 12,
     "metadata": {},
     "output_type": "execute_result"
    }
   ],
   "source": [
    "10 + 10"
   ]
  },
  {
   "cell_type": "code",
   "execution_count": 13,
   "id": "6568289a-c17e-4631-8838-460474977eed",
   "metadata": {},
   "outputs": [
    {
     "data": {
      "text/plain": [
       "0"
      ]
     },
     "execution_count": 13,
     "metadata": {},
     "output_type": "execute_result"
    }
   ],
   "source": [
    "10 + (-10)"
   ]
  },
  {
   "cell_type": "code",
   "execution_count": 6,
   "id": "667253aa-8cb1-4679-a23d-bf8f6840ef0d",
   "metadata": {},
   "outputs": [
    {
     "ename": "TypeError",
     "evalue": "unsupported operand type(s) for /: 'Value' and 'Value'",
     "output_type": "error",
     "traceback": [
      "\u001b[1;31m---------------------------------------------------------------------------\u001b[0m",
      "\u001b[1;31mTypeError\u001b[0m                                 Traceback (most recent call last)",
      "Cell \u001b[1;32mIn[6], line 1\u001b[0m\n\u001b[1;32m----> 1\u001b[0m \u001b[43ma\u001b[49m\u001b[38;5;241;43m/\u001b[39;49m\u001b[43mb\u001b[49m\n",
      "\u001b[1;31mTypeError\u001b[0m: unsupported operand type(s) for /: 'Value' and 'Value'"
     ]
    }
   ],
   "source": [
    "a/b"
   ]
  },
  {
   "cell_type": "code",
   "execution_count": null,
   "id": "83a41f31-5e68-4166-b8b0-19db6f9376fb",
   "metadata": {},
   "outputs": [],
   "source": []
  }
 ],
 "metadata": {
  "kernelspec": {
   "display_name": "Python 3",
   "language": "python",
   "name": "python3"
  },
  "language_info": {
   "codemirror_mode": {
    "name": "ipython",
    "version": 3
   },
   "file_extension": ".py",
   "mimetype": "text/x-python",
   "name": "python",
   "nbconvert_exporter": "python",
   "pygments_lexer": "ipython3",
   "version": "3.10.10"
  }
 },
 "nbformat": 4,
 "nbformat_minor": 5
}
